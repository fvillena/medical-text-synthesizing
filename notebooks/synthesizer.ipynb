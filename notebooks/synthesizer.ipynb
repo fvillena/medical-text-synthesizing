{
 "cells": [
  {
   "cell_type": "code",
   "execution_count": 9,
   "metadata": {},
   "outputs": [],
   "source": [
    "import scipy.sparse\n",
    "import numpy as np"
   ]
  },
  {
   "cell_type": "code",
   "execution_count": 2,
   "metadata": {},
   "outputs": [],
   "source": [
    "vocabulary = []\n",
    "with open(r\"..\\models\\vocabulary1.txt\", encoding='utf-8') as file:\n",
    "    for line in file:\n",
    "        word = line.rstrip()\n",
    "        vocabulary.append(word)"
   ]
  },
  {
   "cell_type": "code",
   "execution_count": 3,
   "metadata": {},
   "outputs": [
    {
     "data": {
      "text/plain": [
       "4084"
      ]
     },
     "execution_count": 3,
     "metadata": {},
     "output_type": "execute_result"
    }
   ],
   "source": [
    "len(vocabulary)"
   ]
  },
  {
   "cell_type": "code",
   "execution_count": 4,
   "metadata": {},
   "outputs": [],
   "source": [
    "# distribution = np.loadtxt(r\"../models/model.npy\")\n",
    "distribution = scipy.sparse.load_npz(r\"../models/model1.npz\")"
   ]
  },
  {
   "cell_type": "code",
   "execution_count": 6,
   "metadata": {},
   "outputs": [
    {
     "data": {
      "text/plain": [
       "array([[0.0058, 0.    , 0.0173, ..., 0.    , 0.0001, 0.    ]])"
      ]
     },
     "execution_count": 6,
     "metadata": {},
     "output_type": "execute_result"
    }
   ],
   "source": [
    "distribution[1,:].toarray()"
   ]
  },
  {
   "cell_type": "code",
   "execution_count": 25,
   "metadata": {},
   "outputs": [
    {
     "name": "stdout",
     "output_type": "stream",
     "text": [
      "solicita\n",
      "cirugia\n",
      "vascular\n",
      "deterioro\n",
      "psicologico\n",
      "hta\n",
      "ave\n",
      "<END>\n"
     ]
    }
   ],
   "source": [
    "current_word = '<START>'\n",
    "while current_word != '<END>':\n",
    "    index = vocabulary.index(current_word)\n",
    "    next_words_distribution = distribution[index,:].toarray()[0]\n",
    "    next_word = np.random.choice(vocabulary, 1, p=next_words_distribution)[0]\n",
    "    print(next_word)\n",
    "    current_word = next_word"
   ]
  }
 ],
 "metadata": {
  "kernelspec": {
   "display_name": "Python 3",
   "language": "python",
   "name": "python3"
  },
  "language_info": {
   "codemirror_mode": {
    "name": "ipython",
    "version": 3
   },
   "file_extension": ".py",
   "mimetype": "text/x-python",
   "name": "python",
   "nbconvert_exporter": "python",
   "pygments_lexer": "ipython3",
   "version": "3.6.7"
  }
 },
 "nbformat": 4,
 "nbformat_minor": 2
}
